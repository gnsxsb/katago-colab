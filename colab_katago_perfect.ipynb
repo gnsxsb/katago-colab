{
  "nbformat": 4,
  "nbformat_minor": 0,
  "metadata": {
    "colab": {
      "name": "colab-katago-perfect.ipynb",
      "provenance": [],
      "collapsed_sections": [],
      "toc_visible": true,
      "authorship_tag": "ABX9TyN0nBAoTTYki+t4EtUcVRSQ",
      "include_colab_link": true
    },
    "kernelspec": {
      "name": "python3",
      "display_name": "Python 3"
    },
    "accelerator": "GPU"
  },
  "cells": [
    {
      "cell_type": "markdown",
      "metadata": {
        "id": "view-in-github",
        "colab_type": "text"
      },
      "source": [
        "<a href=\"https://colab.research.google.com/github/kinfkong/katago-colab/blob/master/colab_katago_perfect.ipynb\" target=\"_parent\"><img src=\"https://colab.research.google.com/assets/colab-badge.svg\" alt=\"Open In Colab\"/></a>"
      ]
    },
    {
      "cell_type": "markdown",
      "metadata": {
        "id": "mOpg8jrU7yBx",
        "colab_type": "text"
      },
      "source": [
        " 请先点击顶部的“复制到驱动器” 另存为自己的副本。\n"
      ]
    },
    {
      "cell_type": "markdown",
      "metadata": {
        "id": "rDYNTCaU8KCr",
        "colab_type": "text"
      },
      "source": [
        "下面的代码是在colab上配置katago、ssh等环境等。  \n",
        "\n",
        "在运行前，要准备好三个变量的值: NGROK_TOKEN及USER_NAME,USER_PASSWORD  \n",
        "\n",
        "* NGROK_TOKEN - 在ngrok里注册登陆后，在这个页面可以看到你的token. https://dashboard.ngrok.com/auth/your-authtoken\n",
        "* USER_NAME及USER_PASSWORD - 你自己给随便自己起一个用户名和密码（即USER_NAME，USER_PASSWORD) 不要有空格之类的特殊字符(最好只有英文及数字）。这个USER_NAME, USER_PASSWORD你以后配置sabaki, Lizzie之类需要用到.\n",
        "\n",
        "弄出上面这些值后，把下面代码中的前三行分别替换成你的值。（注意引号要保留）。然后运行即可。"
      ]
    },
    {
      "cell_type": "code",
      "metadata": {
        "id": "nPaa2KJt8Kyn",
        "colab_type": "code",
        "colab": {}
      },
      "source": [
        "NGROK_TOKEN=\"254Hvo4iQ6MWLCCw7egfv_6MXbj4h6mbD6w2Cx3ymkk\"\n",
        "USER_NAME=\"gnsxsb\"\n",
        "USER_PASSWORD=\"12345678\"\n",
        "\n",
        "\n",
        "# optional args\n",
        "# supports: OPENCL, CUDA or AUTO\n",
        "KATAGO_BACKEND=\"AUTO\"\n",
        "# supports: 40b, 30b, 20b, 40b-large or AUTO\n",
        "WEIGHT_FILE=\"AUTO\" \n",
        "\n",
        "import subprocess\n",
        "if KATAGO_BACKEND == \"AUTO\":\n",
        "  gpu_name=str(subprocess.check_output(\"nvidia-smi -q | grep \\\"Product Name\\\" | cut -d\\\":\\\" -f2 | tr -cd '[:alnum:]._-'\", shell=True), encoding='utf-8')\n",
        "  if gpu_name == \"TeslaT4\":\n",
        "    KATAGO_BACKEND=\"CUDA\"\n",
        "  else:\n",
        "    KATAGO_BACKEND=\"OPENCL\"\n",
        "!echo \"Using Katago Backend: \" $KATAGO_BACKEND\n",
        "\n",
        "if WEIGHT_FILE == \"AUTO\":\n",
        "  gpu_name=str(subprocess.check_output(\"nvidia-smi -q | grep \\\"Product Name\\\" | cut -d\\\":\\\" -f2 | tr -cd '[:alnum:]._-'\", shell=True), encoding='utf-8')\n",
        "  if gpu_name == \"TeslaK80\" or gpu_name == \"TeslaP4\":\n",
        "    WEIGHT_FILE=\"20b\"\n",
        "  else:\n",
        "    WEIGHT_FILE=\"40b\"\n",
        "\n",
        "!echo \"Using Katago Weight: \" $WEIGHT_FILE\n",
        "\n",
        "weight_urls = {\n",
        "    '40b': 'https://github.com/lightvector/KataGo/releases/download/v1.4.5/g170-b40c256x2-s5095420928-d1229425124.bin.gz',\n",
        "    '30b': 'https://github.com/lightvector/KataGo/releases/download/v1.4.5/g170-b30c320x2-s4824661760-d1229536699.bin.gz',\n",
        "    '20b': 'https://github.com/lightvector/KataGo/releases/download/v1.4.5/g170e-b20c256x2-s5303129600-d1228401921.bin.gz',\n",
        "    '40b-large': 'https://github.com/kinfkong/katago-colab/releases/download/v1.4.5/40b384.bin.gz'\n",
        "}\n",
        "\n",
        "# Install useful stuff\n",
        "! apt install --yes ssh screen nano htop ranger git libzip4 1>/dev/null\n",
        "! pip install oss2 1>/dev/null\n",
        "%cd /content\n",
        "\n",
        "!rm -rf katago-colab\n",
        "!git clone https://github.com/kinfkong/katago-colab.git 1>/dev/null\n",
        "\n",
        "#download the binarires\n",
        "!wget --quiet https://github.com/kinfkong/katago-colab/releases/download/v1.4.5/katago-$KATAGO_BACKEND -O katago\n",
        "!chmod +x /content/katago\n",
        "!wget --quiet https://github.com/kinfkong/katago-colab/releases/download/v1.4.5/ngrok -O ngrok\n",
        "!chmod +x /content/ngrok\n",
        "!mkdir -p /root/.katago/\n",
        "!cp -r /content/katago-colab/opencltuning /root/.katago/\n",
        "\n",
        "#download the weights\n",
        "weight_url = weight_urls[WEIGHT_FILE]\n",
        "!wget --quiet $weight_url -O $WEIGHT_FILE\".bin.gz\" \n",
        "!rm -rf weight.bin.gz\n",
        "!ln -s $WEIGHT_FILE\".bin.gz\" weight.bin.gz\n",
        "\n",
        "# SSH setting\n",
        "! echo \"root:$USER_PASSWORD\" | chpasswd\n",
        "! echo \"PasswordAuthentication yes\" > /etc/ssh/sshd_config\n",
        "! echo \"PermitUserEnvironment yes\" >> /etc/ssh/sshd_config\n",
        "! echo \"PermitRootLogin yes\" >> /etc/ssh/sshd_config\n",
        "\n",
        "! mkdir -p /root/.ssh\n",
        "\n",
        "# generate the keys\n",
        "#!ssh-keygen -q -t rsa -N '' -f /root/.ssh/id_rsa <<<y 2>&1 >/dev/null\n",
        "#!cat /root/.ssh/id_rsa.pub >> /root/.ssh/authorized_keys\n",
        "\n",
        "! service ssh restart > /dev/null\n",
        "\n",
        "# Run ngrok\n",
        "get_ipython().system_raw('./ngrok authtoken $NGROK_TOKEN && ./ngrok tcp 22 &')\n",
        "! sleep 5\n",
        "\n",
        "import oss2\n",
        "import requests\n",
        "import json\n",
        "from re import sub\n",
        "r = requests.get('http://localhost:4040/api/tunnels')\n",
        "raw_ssh = r.json()['tunnels'][0]['public_url']\n",
        "ssh_args = (sub(\"tcp://\", \"\", raw_ssh)).split(':')\n",
        "ssh_option = {\n",
        "    'host': ssh_args[0],\n",
        "    'port': int(ssh_args[1]),\n",
        "    'user': 'root'\n",
        "}\n",
        "\n",
        "ssh_option_json = json.dumps(ssh_option)\n",
        "\n",
        "endpoint = 'http://oss-cn-beijing.aliyuncs.com'\n",
        "auth = oss2.Auth('LTAI4G3tthX2R3Z8KY6Bdbs3', 'Q22UstMdKX8zZY9BqkGWWd2XbEBvPH')\n",
        "bucket = oss2.Bucket(auth, endpoint, 'kata-config')\n",
        "\n",
        "key = USER_NAME + '.ssh.json'\n",
        "bucket.put_object(key, ssh_option_json)\n",
        "\n",
        "!echo \"done!\"\n",
        "\n"
      ],
      "execution_count": null,
      "outputs": []
    },
    {
      "cell_type": "markdown",
      "metadata": {
        "id": "movIaTQSRL96",
        "colab_type": "text"
      },
      "source": [
        "#用Sabaki或Lizzie连接  \n",
        "\n",
        "## 第一步: 下载应用程序\n",
        "下载地址如下:  \n",
        "**Windows用户 (64bit windows)**  \n",
        "https://github.com/kinfkong/katago-colab/releases/download/v1.4.5/colab-katago.windows.zip  \n",
        "**Linux用户**  \n",
        "https://github.com/kinfkong/katago-colab/releases/download/v1.4.5/colab-katago.linux.zip  \n",
        "**Mac OSX用户**  \n",
        "https://github.com/kinfkong/katago-colab/releases/download/v1.4.5/colab-katago.mac.zip  \n",
        "\n",
        "\n",
        "**下载后，把压缩包解压，可以得到一个可执行文件: colab-katago或叫colab-katago.exe**\n",
        "\n",
        "## 第二步: 配置Sabaki及Lizzie\n",
        "配置需要设置刚才你下载来的程序的全路径，及你之前步骤里你自己设的用户名、密码(即USER_NAME, USER_PASSWORD) \n",
        "\n",
        "Sabaki样例:  \n",
        "![替代文字](\n",
        "https://kata-config.oss-cn-beijing.aliyuncs.com/images/Snip20200724_4.png)  \n",
        "Lizzie样例:  \n",
        "![替代文字](https://kata-config.oss-cn-beijing.aliyuncs.com/images/Snip20200724_8.png%202020-07-24%2013-24-08.png)\n",
        "\n",
        "## 更多配置 （可以不看） \n",
        "可以用以下的参数，来更改对弈时限制每手棋的visits或时间。比如  \n",
        "```\n",
        "<程序全路径> <用户名> <密码> 30s\n",
        "```\n",
        "表示限制每步用时30秒\n",
        "```\n",
        "<程序全路径> <用户名> <密码> 1600v\n",
        "```\n",
        "表示限制每步用1600 visits的数量\n",
        "\n",
        "上面例子中的30, 1600可以自己换成任意数字"
      ]
    },
    {
      "cell_type": "markdown",
      "metadata": {
        "id": "X1Wx4EZbOkS7",
        "colab_type": "text"
      },
      "source": [
        "#以下的都是调试用的代码，普通用户可以忽略下面的所有内容"
      ]
    },
    {
      "cell_type": "markdown",
      "metadata": {
        "id": "YUrfBH3MPBz4",
        "colab_type": "text"
      },
      "source": [
        "显示GPU类型"
      ]
    },
    {
      "cell_type": "code",
      "metadata": {
        "id": "LMabHvkwOsTl",
        "colab_type": "code",
        "colab": {}
      },
      "source": [
        "!nvidia-smi"
      ],
      "execution_count": null,
      "outputs": []
    },
    {
      "cell_type": "markdown",
      "metadata": {
        "id": "Gnh18L-MPE-n",
        "colab_type": "text"
      },
      "source": [
        "获取ssh登陆信息  \n",
        "*ssh登陆帐号用root, 密码是你之前设置的USER_PASSWORD*"
      ]
    },
    {
      "cell_type": "code",
      "metadata": {
        "id": "ogpJ83VzPHn8",
        "colab_type": "code",
        "colab": {
          "base_uri": "https://localhost:8080/",
          "height": 34
        },
        "outputId": "0e10d348-af7b-439f-d4aa-9f88b9a71eb2"
      },
      "source": [
        "import requests\n",
        "from re import sub\n",
        "r = requests.get('http://localhost:4040/api/tunnels')\n",
        "str_ssh = r.json()['tunnels'][0]['public_url']\n",
        "str_ssh = sub(\"tcp://\", \"\", str_ssh)\n",
        "str_ssh = sub(\":\", \" -p \", str_ssh)\n",
        "str_ssh = \"ssh root@\" + str_ssh \n",
        "print(str_ssh)"
      ],
      "execution_count": null,
      "outputs": [
        {
          "output_type": "stream",
          "text": [
            "ssh root@0.tcp.ngrok.io -p 12828\n"
          ],
          "name": "stdout"
        }
      ]
    }
  ]
}
